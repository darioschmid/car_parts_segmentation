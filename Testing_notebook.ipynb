{
  "nbformat": 4,
  "nbformat_minor": 0,
  "metadata": {
    "colab": {
      "provenance": [],
      "gpuType": "T4",
      "authorship_tag": "ABX9TyMmfhuR1+pB0nrAwbShpfxp",
      "include_colab_link": true
    },
    "kernelspec": {
      "name": "python3",
      "display_name": "Python 3"
    },
    "language_info": {
      "name": "python"
    },
    "accelerator": "GPU"
  },
  "cells": [
    {
      "cell_type": "markdown",
      "metadata": {
        "id": "view-in-github",
        "colab_type": "text"
      },
      "source": [
        "<a href=\"https://colab.research.google.com/github/darioschmid/dl_car_segmentation/blob/main/Testing_notebook.ipynb\" target=\"_parent\"><img src=\"https://colab.research.google.com/assets/colab-badge.svg\" alt=\"Open In Colab\"/></a>"
      ]
    },
    {
      "cell_type": "markdown",
      "source": [
        "#Testing trained models"
      ],
      "metadata": {
        "id": "INlB9WaNjNP3"
      }
    },
    {
      "cell_type": "markdown",
      "source": [
        "imports"
      ],
      "metadata": {
        "id": "tCSXo0vZDHr6"
      }
    },
    {
      "cell_type": "code",
      "source": [
        "import matplotlib.pyplot as plt\n",
        "import matplotlib.image as mpimg"
      ],
      "metadata": {
        "id": "RA47ZxL6DI_F"
      },
      "execution_count": 5,
      "outputs": []
    },
    {
      "cell_type": "markdown",
      "source": [
        "# Clone the repository"
      ],
      "metadata": {
        "id": "ljHgHhr7CFx2"
      }
    },
    {
      "cell_type": "code",
      "execution_count": 2,
      "metadata": {
        "colab": {
          "base_uri": "https://localhost:8080/"
        },
        "id": "k9dPt7zmf8r9",
        "outputId": "6b72d1be-4b8a-44c9-8d77-67626c0ae2a3"
      },
      "outputs": [
        {
          "output_type": "stream",
          "name": "stdout",
          "text": [
            "Cloning into 'dl_car_segmentation'...\n",
            "remote: Enumerating objects: 14916, done.\u001b[K\n",
            "remote: Counting objects: 100% (53/53), done.\u001b[K\n",
            "remote: Compressing objects: 100% (19/19), done.\u001b[K\n",
            "remote: Total 14916 (delta 39), reused 43 (delta 33), pack-reused 14863\u001b[K\n",
            "Receiving objects: 100% (14916/14916), 977.55 MiB | 34.50 MiB/s, done.\n",
            "Resolving deltas: 100% (8090/8090), done.\n"
          ]
        }
      ],
      "source": [
        "!git clone https://github.com/darioschmid/dl_car_segmentation.git"
      ]
    },
    {
      "cell_type": "markdown",
      "source": [],
      "metadata": {
        "id": "MyU9aHHL7x5A"
      }
    },
    {
      "cell_type": "code",
      "source": [
        "from google.colab import drive\n",
        "drive.mount('/content/dl_car_segmentation/drive')"
      ],
      "metadata": {
        "colab": {
          "base_uri": "https://localhost:8080/"
        },
        "id": "F4UxLDgAlAmi",
        "outputId": "2efcd0be-c431-42cf-a1c7-ec5dec6a8a92"
      },
      "execution_count": null,
      "outputs": [
        {
          "output_type": "stream",
          "name": "stdout",
          "text": [
            "Mounted at /content/dl_car_segmentation/drive\n"
          ]
        }
      ]
    },
    {
      "cell_type": "code",
      "source": [],
      "metadata": {
        "id": "cpWtSjw7CRsv"
      },
      "execution_count": null,
      "outputs": []
    },
    {
      "cell_type": "markdown",
      "source": [
        "# Change path to the repository"
      ],
      "metadata": {
        "id": "DU5m2CYBCK8N"
      }
    },
    {
      "cell_type": "code",
      "source": [
        "%cd dl_car_segmentation/"
      ],
      "metadata": {
        "colab": {
          "base_uri": "https://localhost:8080/"
        },
        "id": "W9M8h_5_gF2E",
        "outputId": "fbafcfb2-13b0-400c-9d87-45bbdbd52926"
      },
      "execution_count": null,
      "outputs": [
        {
          "output_type": "stream",
          "name": "stdout",
          "text": [
            "/content/dl_car_segmentation\n"
          ]
        }
      ]
    },
    {
      "cell_type": "markdown",
      "source": [
        "# Load our pretrained UNet model and apply it to a single example"
      ],
      "metadata": {
        "id": "XfGddugGB4pz"
      }
    },
    {
      "cell_type": "code",
      "source": [
        "!python test.py --resume ./pretrained_models/best_unet/checkpoint-epoch50.pth"
      ],
      "metadata": {
        "id": "OHFIKB9U9uE3"
      },
      "execution_count": null,
      "outputs": []
    },
    {
      "cell_type": "markdown",
      "source": [
        "Load the saved image"
      ],
      "metadata": {
        "id": "-ChM1NNCCyDS"
      }
    },
    {
      "cell_type": "code",
      "source": [
        "img = plt.imread('/content/dl_car_segmentation/images/train/0.png')\n",
        "plt.tick_params(left=False, right=False, labelleft=False,\n",
        "                            labelbottom=False, bottom=False)\n",
        "imgplot = plt.imshow(img)\n",
        "plt.show()"
      ],
      "metadata": {
        "colab": {
          "base_uri": "https://localhost:8080/",
          "height": 406
        },
        "id": "_E6I4xC-DE5G",
        "outputId": "f3fa821d-62e8-41e9-ba93-a4e7f27edff8"
      },
      "execution_count": 10,
      "outputs": [
        {
          "output_type": "display_data",
          "data": {
            "text/plain": [
              "<Figure size 640x480 with 1 Axes>"
            ],
            "image/png": "[encoded data removed]"
          },
          "metadata": {}
        }
      ]
    },
    {
      "cell_type": "markdown",
      "source": [
        "# Load our pretrained Pix2Pix model and apply it to the single example"
      ],
      "metadata": {
        "id": "wrQHGFTkCBWz"
      }
    },
    {
      "cell_type": "code",
      "source": [
        "!python test.py --resume ./pretrained_models/best_pix2pix/checkpoint-epoch50.pth"
      ],
      "metadata": {
        "id": "DEpbqhBiBstv"
      },
      "execution_count": null,
      "outputs": []
    },
    {
      "cell_type": "markdown",
      "source": [
        "load the fitted image of our Pix2Pix model"
      ],
      "metadata": {
        "id": "nqkvJoToEcjI"
      }
    },
    {
      "cell_type": "code",
      "source": [
        "img = plt.imread('/content/dl_car_segmentation/images/train/0.png')\n",
        "plt.tick_params(left=False, right=False, labelleft=False,\n",
        "                            labelbottom=False, bottom=False)\n",
        "imgplot = plt.imshow(img)\n",
        "plt.show()"
      ],
      "metadata": {
        "id": "qFeEdg-HEnRm"
      },
      "execution_count": null,
      "outputs": []
    }
  ]
}